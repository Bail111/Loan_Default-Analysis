{
 "cells": [
  {
   "cell_type": "markdown",
   "metadata": {},
   "source": [
    "## Read datasets"
   ]
  },
  {
   "cell_type": "code",
   "execution_count": null,
   "metadata": {},
   "outputs": [],
   "source": [
    "import pandas as pd\n",
    "import matplotlib.pylab as plt\n",
    "import numpy as np\n",
    "from sklearn.preprocessing import StandardScaler, OneHotEncoder, OrdinalEncoder\n",
    "from sklearn.impute import SimpleImputer\n",
    "from sklearn.compose import ColumnTransformer\n",
    "from sklearn.pipeline import Pipeline,make_pipeline\n",
    "from sklearn.model_selection import StratifiedKFold,train_test_split,RandomizedSearchCV\n",
    "from sklearn.metrics import accuracy_score, f1_score,recall_score,precision_score, confusion_matrix,ConfusionMatrixDisplay\n",
    "from sklearn.neighbors import KNeighborsClassifier\n",
    "import pickle\n",
    "import warnings\n",
    "\n",
    "warnings.filterwarnings(\"ignore\", category=FutureWarning)\n",
    "warnings.filterwarnings('ignore', category=UserWarning)\n",
    "# read dataset\n",
    "df = pd.read_csv('../data/Loan_Default.csv')\n",
    "df.drop(columns=['ID','year','Interest_rate_spread','Upfront_charges','rate_of_interest'],inplace=True)\n",
    "df = df.sample(20000, random_state=0)\n",
    "X = df.drop(columns='Status')\n",
    "y = df['Status']"
   ]
  },
  {
   "cell_type": "markdown",
   "metadata": {},
   "source": [
    "## Preprocessing strategy"
   ]
  },
  {
   "cell_type": "code",
   "execution_count": null,
   "metadata": {},
   "outputs": [],
   "source": [
    "binary_cat_ftrs = ['Credit_Worthiness', 'open_credit', 'business_or_commercial', 'interest_only', 'lump_sum_payment', 'construction_type', 'Secured_by', 'co-applicant_credit_type', 'Security_Type']\n",
    "ordinal_ftrs = ['total_units','age'] \n",
    "ordinal_cats = [['1U', '2U', '3U', '4U','missing'], \n",
    "                ['<25','25-34','35-44','45-54','55-64','65-74','>74','missing']]\n",
    "onehot_ftrs = ['loan_limit','approv_in_adv','Gender','loan_type','loan_purpose','Neg_ammortization','occupancy_type','credit_type','submission_of_application','Region']\n",
    "\n",
    "categorical_transformer = Pipeline(steps=[\n",
    "    ('cat_imputer', SimpleImputer(strategy='constant', fill_value='missing')),\n",
    "    ('onehot', OneHotEncoder(sparse_output=False, handle_unknown='ignore'))\n",
    "])\n",
    "\n",
    "ordinal_transformer = Pipeline(steps=[\n",
    "    ('ord_imputer', SimpleImputer(strategy='constant', fill_value='missing')),\n",
    "    ('ordinal', OrdinalEncoder(categories=ordinal_cats,handle_unknown='use_encoded_value', unknown_value=-1))\n",
    "])\n",
    "\n",
    "labelEncoding_transformer = OrdinalEncoder(handle_unknown='use_encoded_value', unknown_value=-1)\n",
    "\n",
    "transformer = ColumnTransformer(\n",
    "transformers=[\n",
    "    ('cat', categorical_transformer, onehot_ftrs),\n",
    "    ('ord', ordinal_transformer, ordinal_ftrs),\n",
    "    ('bi_cat',labelEncoding_transformer,binary_cat_ftrs)\n",
    "], remainder='passthrough')\n",
    "\n",
    "final_standard = StandardScaler()\n",
    "\n",
    "preprocessor = Pipeline(steps=[\n",
    "    ('transformer', transformer),\n",
    "    ('final_standard', final_standard)\n",
    "])"
   ]
  },
  {
   "cell_type": "code",
   "execution_count": null,
   "metadata": {},
   "outputs": [
    {
     "name": "stdout",
     "output_type": "stream",
     "text": [
      "fraction of missing values in features:\n",
      "remainder__term              0.00030\n",
      "remainder__property_value    0.10220\n",
      "remainder__income            0.06025\n",
      "remainder__LTV               0.10220\n",
      "remainder__dtir1             0.16155\n",
      "dtype: float64\n"
     ]
    }
   ],
   "source": [
    "# missing values in continuous features\n",
    "X_transfomed = preprocessor.fit_transform(X)\n",
    "df=pd.DataFrame(X_transfomed,columns=preprocessor.get_feature_names_out())\n",
    "perc_missing_per_ftr = df.isnull().sum(axis=0)/df.shape[0]\n",
    "print('fraction of missing values in features:')\n",
    "print(perc_missing_per_ftr[perc_missing_per_ftr > 0])"
   ]
  },
  {
   "cell_type": "code",
   "execution_count": null,
   "metadata": {},
   "outputs": [
    {
     "name": "stdout",
     "output_type": "stream",
     "text": [
      "(7, 5)\n",
      "[False False False False False] 16749\n",
      "[False False  True False False] 17\n",
      "[False False  True False  True] 1187\n",
      "[False  True False  True  True] 2040\n",
      "[False  True  True  True  True] 1\n",
      "[ True False False False False] 3\n",
      "[ True  True False  True  True] 3\n"
     ]
    }
   ],
   "source": [
    "# missing values patterns\n",
    "mask = df[perc_missing_per_ftr[perc_missing_per_ftr > 0].index].isnull()\n",
    "\n",
    "unique_rows, counts = np.unique(mask, axis=0,return_counts=True)\n",
    "print(unique_rows.shape) \n",
    "for i in range(len(counts)):\n",
    "    print(unique_rows[i],counts[i])"
   ]
  },
  {
   "cell_type": "markdown",
   "metadata": {},
   "source": [
    "## Build the model pipeline"
   ]
  },
  {
   "cell_type": "code",
   "execution_count": null,
   "metadata": {},
   "outputs": [],
   "source": [
    "def reduced_feature_KNN(X_train, y_train, X_test, y_test, param_grid, random_state):\n",
    "    \n",
    "    # find all unique patterns of missing value in test set\n",
    "    continuous_columns = X_test.select_dtypes(include=['float64', 'int64']).columns\n",
    "    mask = X_test.isnull()\n",
    "\n",
    "    categorical_columns = X_test.select_dtypes(include=['object', 'category']).columns\n",
    "    mask[categorical_columns] = False  \n",
    "\n",
    "    mask[continuous_columns] = X_test[continuous_columns].isnull()\n",
    "    unique_rows = np.array(np.unique(mask, axis=0))\n",
    "    all_y_test_pred = pd.DataFrame()\n",
    "    best_models = []\n",
    "    print('there are', len(unique_rows), 'unique missing value patterns.')\n",
    "    \n",
    "    # divide test sets into subgroups according to the unique patterns\n",
    "    for i in range(len(unique_rows)):\n",
    "        print ('working on unique pattern', i)\n",
    "        ## generate X_test subset that matches the unique pattern i\n",
    "        sub_X_test = pd.DataFrame()\n",
    "        sub_y_test = pd.Series(dtype=float)\n",
    "        for j in range(len(mask)): \n",
    "            row_mask = np.array(mask.iloc[j])\n",
    "            if np.array_equal(row_mask, unique_rows[i]): \n",
    "\n",
    "                sub_X_test = pd.concat([sub_X_test,X_test.iloc[[j]]])\n",
    "                sub_y_test = pd.concat([sub_y_test, y_test.iloc[[j]]])\n",
    "\n",
    "        sub_X_test = sub_X_test[X_test.columns[~unique_rows[i]]]\n",
    "        ## choose the according reduced features for subgroups\n",
    "        sub_X_train = pd.DataFrame()\n",
    "        sub_Y_train = pd.DataFrame()\n",
    "        sub_X_train = X_train[X_train.columns[~unique_rows[i]]]\n",
    "        sub_X_train = sub_X_train.dropna()\n",
    "        sub_Y_train = y_train.loc[sub_X_train.index]\n",
    "        \n",
    "        kf = StratifiedKFold(n_splits=4,shuffle=True,random_state=i)\n",
    "        clf = KNeighborsClassifier()\n",
    "        pipe = make_pipeline(preprocessor, clf)\n",
    "        grid =RandomizedSearchCV(pipe, param_grid, scoring='accuracy', cv=kf, return_train_score=True, n_jobs=-1, verbose=True,random_state=random_state)\n",
    "        grid.fit(sub_X_train,sub_Y_train)\n",
    "        best_model = grid.best_estimator_\n",
    "        best_models.append(best_model)\n",
    "        sub_y_test_pred = best_model.predict(sub_X_test)\n",
    "        sub_y_test_pred = pd.DataFrame(sub_y_test_pred,columns=['sub_y_test_pred'],\n",
    "                                          index=sub_y_test.index)\n",
    "        print('num of sample: ', len(sub_y_test_pred))\n",
    "        print(' accuracy score:',accuracy_score(sub_y_test,sub_y_test_pred))\n",
    "        # collect the test predictions\n",
    "        all_y_test_pred = pd.concat([all_y_test_pred, sub_y_test_pred])\n",
    "        \n",
    "    # rank the final y_test_pred according to original y_test index\n",
    "    all_y_test_pred = all_y_test_pred.sort_index()\n",
    "    y_test = y_test.sort_index()\n",
    "               \n",
    "    # get global accuracy score\n",
    " \n",
    "    return all_y_test_pred,best_models,unique_rows"
   ]
  },
  {
   "cell_type": "code",
   "execution_count": null,
   "metadata": {},
   "outputs": [
    {
     "name": "stdout",
     "output_type": "stream",
     "text": [
      "there are 5 unique missing value patterns.\n",
      "working on unique pattern 0\n",
      "Fitting 4 folds for each of 10 candidates, totalling 40 fits\n",
      "num of sample:  3361\n",
      " accuracy score: 0.8458792026182683\n",
      "working on unique pattern 1\n",
      "Fitting 4 folds for each of 10 candidates, totalling 40 fits\n",
      "num of sample:  2\n",
      " accuracy score: 0.5\n",
      "working on unique pattern 2\n",
      "Fitting 4 folds for each of 10 candidates, totalling 40 fits\n",
      "num of sample:  234\n",
      " accuracy score: 0.8675213675213675\n",
      "working on unique pattern 3\n",
      "Fitting 4 folds for each of 10 candidates, totalling 40 fits\n",
      "num of sample:  402\n",
      " accuracy score: 0.9253731343283582\n",
      "working on unique pattern 4\n",
      "Fitting 4 folds for each of 10 candidates, totalling 40 fits\n",
      "num of sample:  1\n",
      " accuracy score: 1.0\n",
      "there are 6 unique missing value patterns.\n",
      "working on unique pattern 0\n",
      "Fitting 4 folds for each of 10 candidates, totalling 40 fits\n",
      "num of sample:  3340\n",
      " accuracy score: 0.8491017964071856\n",
      "working on unique pattern 1\n",
      "Fitting 4 folds for each of 10 candidates, totalling 40 fits\n",
      "num of sample:  5\n",
      " accuracy score: 0.8\n",
      "working on unique pattern 2\n",
      "Fitting 4 folds for each of 10 candidates, totalling 40 fits\n",
      "num of sample:  224\n",
      " accuracy score: 0.8839285714285714\n",
      "working on unique pattern 3\n",
      "Fitting 4 folds for each of 10 candidates, totalling 40 fits\n",
      "num of sample:  428\n",
      " accuracy score: 0.9439252336448598\n",
      "working on unique pattern 4\n",
      "Fitting 4 folds for each of 10 candidates, totalling 40 fits\n",
      "num of sample:  1\n",
      " accuracy score: 1.0\n",
      "working on unique pattern 5\n",
      "Fitting 4 folds for each of 10 candidates, totalling 40 fits\n",
      "num of sample:  2\n",
      " accuracy score: 0.5\n",
      "there are 6 unique missing value patterns.\n",
      "working on unique pattern 0\n",
      "Fitting 4 folds for each of 10 candidates, totalling 40 fits\n",
      "num of sample:  3354\n",
      " accuracy score: 0.8431723315444246\n",
      "working on unique pattern 1\n",
      "Fitting 4 folds for each of 10 candidates, totalling 40 fits\n",
      "num of sample:  4\n",
      " accuracy score: 1.0\n",
      "working on unique pattern 2\n",
      "Fitting 4 folds for each of 10 candidates, totalling 40 fits\n",
      "num of sample:  234\n",
      " accuracy score: 0.8547008547008547\n",
      "working on unique pattern 3\n",
      "Fitting 4 folds for each of 10 candidates, totalling 40 fits\n",
      "num of sample:  406\n",
      " accuracy score: 0.9384236453201971\n",
      "working on unique pattern 4\n",
      "Fitting 4 folds for each of 10 candidates, totalling 40 fits\n",
      "num of sample:  1\n",
      " accuracy score: 1.0\n",
      "working on unique pattern 5\n",
      "Fitting 4 folds for each of 10 candidates, totalling 40 fits\n",
      "num of sample:  1\n",
      " accuracy score: 1.0\n",
      "there are 6 unique missing value patterns.\n",
      "working on unique pattern 0\n",
      "Fitting 4 folds for each of 10 candidates, totalling 40 fits\n",
      "num of sample:  3349\n",
      " accuracy score: 0.849507315616602\n",
      "working on unique pattern 1\n",
      "Fitting 4 folds for each of 10 candidates, totalling 40 fits\n",
      "num of sample:  2\n",
      " accuracy score: 1.0\n",
      "working on unique pattern 2\n",
      "Fitting 4 folds for each of 10 candidates, totalling 40 fits\n",
      "num of sample:  231\n",
      " accuracy score: 0.9177489177489178\n",
      "working on unique pattern 3\n",
      "Fitting 4 folds for each of 10 candidates, totalling 40 fits\n",
      "num of sample:  416\n",
      " accuracy score: 0.9206730769230769\n",
      "working on unique pattern 4\n",
      "Fitting 4 folds for each of 10 candidates, totalling 40 fits\n",
      "num of sample:  1\n",
      " accuracy score: 1.0\n",
      "working on unique pattern 5\n",
      "Fitting 4 folds for each of 10 candidates, totalling 40 fits\n",
      "num of sample:  1\n",
      " accuracy score: 1.0\n",
      "there are 5 unique missing value patterns.\n",
      "working on unique pattern 0\n",
      "Fitting 4 folds for each of 10 candidates, totalling 40 fits\n",
      "num of sample:  3331\n",
      " accuracy score: 0.8453917742419694\n",
      "working on unique pattern 1\n",
      "Fitting 4 folds for each of 10 candidates, totalling 40 fits\n",
      "num of sample:  4\n",
      " accuracy score: 0.75\n",
      "working on unique pattern 2\n",
      "Fitting 4 folds for each of 10 candidates, totalling 40 fits\n",
      "num of sample:  246\n",
      " accuracy score: 0.8902439024390244\n",
      "working on unique pattern 3\n",
      "Fitting 4 folds for each of 10 candidates, totalling 40 fits\n",
      "num of sample:  418\n",
      " accuracy score: 0.9401913875598086\n",
      "working on unique pattern 4\n",
      "Fitting 4 folds for each of 10 candidates, totalling 40 fits\n",
      "num of sample:  1\n",
      " accuracy score: 1.0\n"
     ]
    }
   ],
   "source": [
    "# Parameter grid for hyperparameter tuning\n",
    "param_grid = {\n",
    "    'kneighborsclassifier__n_neighbors': [1, 3, 5, 10, 30],       #\n",
    "    'kneighborsclassifier__weights': ['uniform', 'distance'],       \n",
    "}\n",
    "\n",
    "y_preds = []\n",
    "models = []\n",
    "test_sets = []\n",
    "unique_rows_record = []\n",
    "for random_state in range(5):\n",
    "    X_train, X_test, y_train, y_test = train_test_split(\n",
    "        X, y, test_size=0.2, stratify=y, random_state=random_state)\n",
    "\n",
    "    all_y_test_pred,best_models,unique_rows = reduced_feature_KNN(X_train, y_train, X_test, y_test, param_grid, random_state)\n",
    "\n",
    "    test_sets.append([X_test,y_test])\n",
    "    unique_rows_record.append(unique_rows)\n",
    "    models.append(best_models)\n",
    "    y_preds.append(all_y_test_pred)\n"
   ]
  },
  {
   "cell_type": "code",
   "execution_count": null,
   "metadata": {},
   "outputs": [],
   "source": [
    "file = open('../results/reduced_feature_KNN.save', 'wb')\n",
    "pickle.dump((y_preds, models, test_sets, unique_rows_record), file)\n",
    "file.close()"
   ]
  },
  {
   "cell_type": "markdown",
   "metadata": {},
   "source": [
    "## Load and interpret the model"
   ]
  },
  {
   "cell_type": "code",
   "execution_count": null,
   "metadata": {},
   "outputs": [],
   "source": [
    "file = open('../results/reduced_feature_KNN.save', 'rb')\n",
    "y_preds, models, test_sets, unique_rows_record = pickle.load(file)\n",
    "file.close()"
   ]
  },
  {
   "cell_type": "code",
   "execution_count": 9,
   "metadata": {},
   "outputs": [],
   "source": [
    "accs = []\n",
    "f1s = []\n",
    "recalls = []\n",
    "precisions = []\n",
    "\n",
    "\n",
    "for y_pred,test_set in zip(y_preds,test_sets):\n",
    "    _,y_test = test_set\n",
    "    order_y_test = y_test.sort_index()\n",
    "    accs.append(accuracy_score(order_y_test,y_pred))\n",
    "    f1s.append(f1_score(order_y_test,y_pred))\n",
    "    recalls.append(recall_score(order_y_test,y_pred))\n",
    "    precisions.append(precision_score(order_y_test,y_pred))"
   ]
  },
  {
   "cell_type": "code",
   "execution_count": 10,
   "metadata": {},
   "outputs": [
    {
     "name": "stdout",
     "output_type": "stream",
     "text": [
      "mean of accuracy score: 0.8577499999999999,    standard deviation of accuracy score: 0.0029916550603303134\n",
      "mean of f1 score: 0.6041450276376816,     standard deviation of f1 score: 0.011810413217949366\n",
      "mean of recall score: 0.4410152284263959,     standard deviation of recall score: 0.012979051219895949\n",
      "mean of precision score: 0.8577499999999999,     standard deviation of precision score: 0.010658241207858738\n"
     ]
    }
   ],
   "source": [
    "print(f\"mean of accuracy score: {np.mean(accs)},    standard deviation of accuracy score: {np.std(accs)}\")\n",
    "print(f\"mean of f1 score: {np.mean(f1s)},     standard deviation of f1 score: {np.std(f1s)}\")\n",
    "print(f\"mean of recall score: {np.mean(recalls)},     standard deviation of recall score: {np.std(recalls)}\")\n",
    "print(f\"mean of precision score: {np.mean(accs)},     standard deviation of precision score: {np.std(precisions)}\")"
   ]
  },
  {
   "cell_type": "code",
   "execution_count": 11,
   "metadata": {},
   "outputs": [
    {
     "data": {
      "image/png": "[encoded data removed]",
      "text/plain": [
       "<Figure size 600x300 with 2 Axes>"
      ]
     },
     "metadata": {},
     "output_type": "display_data"
    }
   ],
   "source": [
    "X_test,y_test = test_set\n",
    "cm = confusion_matrix(order_y_test,y_pred)\n",
    "disp = ConfusionMatrixDisplay((cm.T/np.sum(cm.T,axis=0)).T,display_labels=['class 0', 'class 1'])\n",
    "fig, ax = plt.subplots(figsize=(6,3))\n",
    "disp.plot(ax=ax)\n",
    "plt.show()"
   ]
  },
  {
   "cell_type": "markdown",
   "metadata": {},
   "source": [
    "#### Permutation feature importance"
   ]
  },
  {
   "cell_type": "code",
   "execution_count": 12,
   "metadata": {},
   "outputs": [],
   "source": [
    "def get_sub_set(X_test,y_test,unique_row):\n",
    "    mask = X_test.isnull()\n",
    "    sub_X_test = pd.DataFrame()\n",
    "    sub_y_test = pd.Series(dtype=float)\n",
    "    for j in range(len(mask)): \n",
    "        row_mask = np.array(mask.iloc[j])\n",
    "        if np.array_equal(row_mask, unique_row): \n",
    "\n",
    "            sub_X_test = pd.concat([sub_X_test,X_test.iloc[[j]]])\n",
    "            sub_y_test = pd.concat([sub_y_test, y_test.iloc[[j]]])\n",
    "    return sub_X_test, sub_y_test"
   ]
  },
  {
   "cell_type": "code",
   "execution_count": 13,
   "metadata": {},
   "outputs": [
    {
     "name": "stdout",
     "output_type": "stream",
     "text": [
      "0 0 test score =  0.8462009803921569\n",
      "test baseline =  0.8360906862745098\n",
      "shuffling loan_limit\n",
      "   shuffled test score: 0.846 +/- 0.001\n",
      "shuffling Gender\n",
      "   shuffled test score: 0.846 +/- 0.001\n",
      "shuffling approv_in_adv\n",
      "   shuffled test score: 0.845 +/- 0.0\n",
      "shuffling loan_type\n",
      "   shuffled test score: 0.847 +/- 0.0\n",
      "shuffling loan_purpose\n",
      "   shuffled test score: 0.846 +/- 0.0\n",
      "shuffling Credit_Worthiness\n",
      "   shuffled test score: 0.842 +/- 0.001\n",
      "shuffling open_credit\n",
      "   shuffled test score: 0.846 +/- 0.0\n",
      "shuffling business_or_commercial\n",
      "   shuffled test score: 0.847 +/- 0.0\n",
      "shuffling loan_amount\n",
      "   shuffled test score: 0.847 +/- 0.0\n",
      "shuffling term\n",
      "   shuffled test score: 0.846 +/- 0.0\n",
      "shuffling Neg_ammortization\n",
      "   shuffled test score: 0.842 +/- 0.001\n",
      "shuffling interest_only\n",
      "   shuffled test score: 0.846 +/- 0.0\n",
      "shuffling lump_sum_payment\n",
      "   shuffled test score: 0.828 +/- 0.002\n",
      "shuffling property_value\n",
      "   shuffled test score: 0.845 +/- 0.002\n",
      "shuffling construction_type\n",
      "   shuffled test score: 0.846 +/- 0.0\n",
      "shuffling occupancy_type\n",
      "   shuffled test score: 0.846 +/- 0.0\n",
      "shuffling Secured_by\n",
      "   shuffled test score: 0.846 +/- 0.0\n",
      "shuffling total_units\n",
      "   shuffled test score: 0.846 +/- 0.0\n",
      "shuffling income\n",
      "   shuffled test score: 0.847 +/- 0.001\n",
      "shuffling credit_type\n",
      "   shuffled test score: 0.845 +/- 0.001\n",
      "shuffling Credit_Score\n",
      "   shuffled test score: 0.847 +/- 0.0\n",
      "shuffling co-applicant_credit_type\n",
      "   shuffled test score: 0.846 +/- 0.0\n",
      "shuffling age\n",
      "   shuffled test score: 0.846 +/- 0.0\n",
      "shuffling submission_of_application\n",
      "   shuffled test score: 0.846 +/- 0.0\n",
      "shuffling LTV\n",
      "   shuffled test score: 0.846 +/- 0.002\n",
      "shuffling Region\n",
      "   shuffled test score: 0.847 +/- 0.001\n",
      "shuffling Security_Type\n",
      "   shuffled test score: 0.846 +/- 0.0\n",
      "shuffling dtir1\n",
      "   shuffled test score: 0.846 +/- 0.002\n"
     ]
    }
   ],
   "source": [
    "# use the one of models to check feature importances\n",
    "np.random.seed(42)\n",
    "i, j = 0, 0\n",
    "X_test,y_test = test_sets[i]\n",
    "unique_row = unique_rows_record[i][j]\n",
    "model = models[i][j]\n",
    "\n",
    "ftr_names = X_test.columns\n",
    "nr_runs = 10\n",
    "scores = np.zeros([len(ftr_names),nr_runs])\n",
    "\n",
    "\n",
    "sub_X_test,sub_y_test = get_sub_set(X_test,y_test,unique_row)\n",
    "sub_X_test = sub_X_test.dropna(axis=1)\n",
    "test_score = model.score(sub_X_test,sub_y_test)\n",
    "print(i,j,'test score = ',test_score)\n",
    "print('test baseline = ',np.sum(sub_y_test == 0)/len(sub_y_test))\n",
    "for i in range(len(ftr_names)):\n",
    "    print('shuffling '+str(ftr_names[i]))\n",
    "    acc_scores = []\n",
    "    for j in range(nr_runs):\n",
    "        X_test_shuffled = X_test.copy()\n",
    "        X_test_shuffled[ftr_names[i]] = np.random.permutation(X_test[ftr_names[i]].values)\n",
    "        sub_X_test_shuffled,sub_y_test = get_sub_set(X_test_shuffled,y_test,unique_row)\n",
    "        sub_X_test_shuffled = sub_X_test_shuffled.dropna(axis=1)\n",
    "        acc_scores.append(model.score(sub_X_test_shuffled,sub_y_test))\n",
    "    print('   shuffled test score:',np.around(np.mean(acc_scores),3),'+/-',np.around(np.std(acc_scores),3))\n",
    "    scores[i] = acc_scores\n",
    "    scores[i] = acc_scores"
   ]
  },
  {
   "cell_type": "code",
   "execution_count": 14,
   "metadata": {},
   "outputs": [
    {
     "data": {
      "image/png": "[encoded data removed]",
      "text/plain": [
       "<Figure size 1000x600 with 1 Axes>"
      ]
     },
     "metadata": {},
     "output_type": "display_data"
    }
   ],
   "source": [
    "sorted_indcs = np.argsort(np.mean(scores,axis=1))[:10][::-1]\n",
    "plt.rcParams.update({'font.size': 11})\n",
    "plt.figure(figsize=(10,6))\n",
    "plt.boxplot(scores[sorted_indcs].T,tick_labels=ftr_names[sorted_indcs],vert=False)\n",
    "plt.axvline(test_score,label='test score')\n",
    "plt.title(\"Permutation Importances (test set)\")\n",
    "plt.xlabel('score with perturbed feature')\n",
    "plt.legend()\n",
    "plt.tight_layout()\n",
    "plt.show()"
   ]
  }
 ],
 "metadata": {
  "kernelspec": {
   "display_name": "data1030",
   "language": "python",
   "name": "python3"
  },
  "language_info": {
   "codemirror_mode": {
    "name": "ipython",
    "version": 3
   },
   "file_extension": ".py",
   "mimetype": "text/x-python",
   "name": "python",
   "nbconvert_exporter": "python",
   "pygments_lexer": "ipython3",
   "version": "3.12.5"
  }
 },
 "nbformat": 4,
 "nbformat_minor": 2
}
