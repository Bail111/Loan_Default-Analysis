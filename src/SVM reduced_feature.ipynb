{
 "cells": [
  {
   "cell_type": "markdown",
   "metadata": {},
   "source": [
    "## Read datasets"
   ]
  },
  {
   "cell_type": "code",
   "execution_count": null,
   "metadata": {},
   "outputs": [],
   "source": [
    "import pandas as pd\n",
    "import matplotlib.pylab as plt\n",
    "import numpy as np\n",
    "from sklearn.preprocessing import StandardScaler, OneHotEncoder, OrdinalEncoder\n",
    "from sklearn.impute import SimpleImputer\n",
    "from sklearn.compose import ColumnTransformer\n",
    "from sklearn.pipeline import Pipeline,make_pipeline\n",
    "from sklearn.model_selection import StratifiedKFold,train_test_split, RandomizedSearchCV\n",
    "from sklearn.metrics import accuracy_score, f1_score,recall_score,precision_score, confusion_matrix,ConfusionMatrixDisplay\n",
    "from sklearn.svm import SVC\n",
    "import pickle\n",
    "import warnings\n",
    "\n",
    "warnings.filterwarnings(\"ignore\", category=FutureWarning)\n",
    "warnings.filterwarnings('ignore', category=UserWarning)\n",
    "\n",
    "# read dataset\n",
    "df = pd.read_csv('../data/Loan_Default.csv')\n",
    "df.drop(columns=['ID','year','Interest_rate_spread','Upfront_charges','rate_of_interest'],inplace=True)\n",
    "df = df.sample(20000, random_state=42)\n",
    "X = df.drop(columns='Status')\n",
    "y = df['Status']"
   ]
  },
  {
   "cell_type": "markdown",
   "metadata": {},
   "source": [
    "## Preprocessing strategy"
   ]
  },
  {
   "cell_type": "code",
   "execution_count": null,
   "metadata": {},
   "outputs": [],
   "source": [
    "\n",
    "binary_cat_ftrs = ['Credit_Worthiness', 'open_credit', 'business_or_commercial', 'interest_only', 'lump_sum_payment', 'construction_type', 'Secured_by', 'co-applicant_credit_type', 'Security_Type']\n",
    "ordinal_ftrs = ['total_units','age'] \n",
    "ordinal_cats = [['1U', '2U', '3U', '4U','missing'], \n",
    "                ['<25','25-34','35-44','45-54','55-64','65-74','>74','missing']]\n",
    "onehot_ftrs = ['loan_limit','approv_in_adv','Gender','loan_type','loan_purpose','Neg_ammortization','occupancy_type','credit_type','submission_of_application','Region']\n",
    "\n",
    "categorical_transformer = Pipeline(steps=[\n",
    "    ('cat_imputer', SimpleImputer(strategy='constant', fill_value='missing')),\n",
    "    ('onehot', OneHotEncoder(sparse_output=False, handle_unknown='ignore'))\n",
    "])\n",
    "\n",
    "ordinal_transformer = Pipeline(steps=[\n",
    "    ('ord_imputer', SimpleImputer(strategy='constant', fill_value='missing')),\n",
    "    ('ordinal', OrdinalEncoder(categories=ordinal_cats,handle_unknown='use_encoded_value', unknown_value=-1))\n",
    "])\n",
    "\n",
    "labelEncoding_transformer = OrdinalEncoder()\n",
    "\n",
    "transformer = ColumnTransformer(\n",
    "transformers=[\n",
    "    ('cat', categorical_transformer, onehot_ftrs),\n",
    "    ('ord', ordinal_transformer, ordinal_ftrs),\n",
    "    ('bi_cat',labelEncoding_transformer,binary_cat_ftrs)\n",
    "], remainder='passthrough')\n",
    "\n",
    "final_standard = StandardScaler()\n",
    "\n",
    "preprocessor = Pipeline(steps=[\n",
    "    ('transformer', transformer),\n",
    "    ('final_standard', final_standard)\n",
    "])"
   ]
  },
  {
   "cell_type": "code",
   "execution_count": null,
   "metadata": {},
   "outputs": [
    {
     "name": "stdout",
     "output_type": "stream",
     "text": [
      "fraction of missing values in features:\n",
      "remainder__term              0.00030\n",
      "remainder__property_value    0.09810\n",
      "remainder__income            0.06115\n",
      "remainder__LTV               0.09810\n",
      "remainder__dtir1             0.15855\n",
      "dtype: float64\n"
     ]
    }
   ],
   "source": [
    "# missing values in continuous features\n",
    "X_transfomed = preprocessor.fit_transform(X)\n",
    "df=pd.DataFrame(X_transfomed,columns=preprocessor.get_feature_names_out())\n",
    "perc_missing_per_ftr = df.isnull().sum(axis=0)/df.shape[0]\n",
    "print('fraction of missing values in features:')\n",
    "print(perc_missing_per_ftr[perc_missing_per_ftr > 0])"
   ]
  },
  {
   "cell_type": "code",
   "execution_count": null,
   "metadata": {},
   "outputs": [
    {
     "name": "stdout",
     "output_type": "stream",
     "text": [
      "(6, 5)\n",
      "[False False False False False] 16813\n",
      "[False False  True False False] 14\n",
      "[False False  True False  True] 1209\n",
      "[False  True False  True  True] 1958\n",
      "[ True False False False False] 2\n",
      "[ True  True False  True  True] 4\n"
     ]
    }
   ],
   "source": [
    "# missing values patterns\n",
    "mask = df[perc_missing_per_ftr[perc_missing_per_ftr > 0].index].isnull()\n",
    "\n",
    "unique_rows, counts = np.unique(mask, axis=0,return_counts=True)\n",
    "print(unique_rows.shape) \n",
    "for i in range(len(counts)):\n",
    "    print(unique_rows[i],counts[i])"
   ]
  },
  {
   "cell_type": "code",
   "execution_count": null,
   "metadata": {},
   "outputs": [],
   "source": [
    "def reduced_feature_SVM(X_train, y_train, X_test, y_test, param_grid, random_state):\n",
    "    \n",
    "    # find all unique patterns of missing value in test set\n",
    "    continuous_columns = X_test.select_dtypes(include=['float64', 'int64']).columns\n",
    "    mask = X_test.isnull()\n",
    "\n",
    "    categorical_columns = X_test.select_dtypes(include=['object', 'category']).columns\n",
    "    mask[categorical_columns] = False  \n",
    "\n",
    "    mask[continuous_columns] = X_test[continuous_columns].isnull()\n",
    "    unique_rows = np.array(np.unique(mask, axis=0))\n",
    "    all_y_test_pred = pd.DataFrame()\n",
    "    best_models = []\n",
    "    print('there are', len(unique_rows), 'unique missing value patterns.')\n",
    "    \n",
    "    # divide test sets into subgroups according to the unique patterns\n",
    "    for i in range(len(unique_rows)):\n",
    "        print ('working on unique pattern', i)\n",
    "        ## generate X_test subset that matches the unique pattern i\n",
    "        sub_X_test = pd.DataFrame()\n",
    "        sub_y_test = pd.Series(dtype=float)\n",
    "        for j in range(len(mask)): # check each row in mask\n",
    "            row_mask = np.array(mask.iloc[j])\n",
    "            if np.array_equal(row_mask, unique_rows[i]): \n",
    "\n",
    "                sub_X_test = pd.concat([sub_X_test,X_test.iloc[[j]]])\n",
    "                sub_y_test = pd.concat([sub_y_test, y_test.iloc[[j]]])\n",
    "\n",
    "        sub_X_test = sub_X_test[X_test.columns[~unique_rows[i]]]\n",
    "        ## choose the according reduced features for subgroups\n",
    "        sub_X_train = pd.DataFrame()\n",
    "        sub_Y_train = pd.DataFrame()\n",
    "        sub_X_train = X_train[X_train.columns[~unique_rows[i]]]\n",
    "        sub_X_train = sub_X_train.dropna()\n",
    "        sub_Y_train = y_train.loc[sub_X_train.index]\n",
    "        \n",
    "        kf = StratifiedKFold(n_splits=4,shuffle=True,random_state=i)\n",
    "        clf = SVC()\n",
    "        pipe = make_pipeline(preprocessor, clf)\n",
    "        grid =RandomizedSearchCV(pipe, param_grid, scoring='accuracy', cv=kf, return_train_score=True, n_jobs=-1, verbose=True,random_state=random_state)\n",
    "        grid.fit(sub_X_train,sub_Y_train)\n",
    "        best_model = grid.best_estimator_\n",
    "        best_models.append(best_model)\n",
    "        sub_y_test_pred = best_model.predict(sub_X_test)\n",
    "        sub_y_test_pred = pd.DataFrame(sub_y_test_pred,columns=['sub_y_test_pred'],\n",
    "                                          index=sub_y_test.index)\n",
    "        print('num of sample: ', len(sub_y_test_pred))\n",
    "        print(' accuracy score:',accuracy_score(sub_y_test,sub_y_test_pred))\n",
    "        # collect the test predictions\n",
    "        all_y_test_pred = pd.concat([all_y_test_pred, sub_y_test_pred])\n",
    "        \n",
    "    # rank the final y_test_pred according to original y_test index\n",
    "    all_y_test_pred = all_y_test_pred.sort_index()\n",
    "    y_test = y_test.sort_index()\n",
    "               \n",
    "    # get global accuracy score\n",
    " \n",
    "    return all_y_test_pred,best_models,unique_rows"
   ]
  },
  {
   "cell_type": "code",
   "execution_count": 6,
   "metadata": {},
   "outputs": [
    {
     "name": "stdout",
     "output_type": "stream",
     "text": [
      "there are 4 unique missing value patterns.\n",
      "working on unique pattern 0\n",
      "Fitting 4 folds for each of 10 candidates, totalling 40 fits\n",
      "num of sample:  3370\n",
      " accuracy score: 0.8593471810089021\n",
      "working on unique pattern 1\n",
      "Fitting 4 folds for each of 10 candidates, totalling 40 fits\n",
      "num of sample:  5\n",
      " accuracy score: 1.0\n",
      "working on unique pattern 2\n",
      "Fitting 4 folds for each of 10 candidates, totalling 40 fits\n",
      "num of sample:  220\n",
      " accuracy score: 0.8818181818181818\n",
      "working on unique pattern 3\n",
      "Fitting 4 folds for each of 10 candidates, totalling 40 fits\n",
      "num of sample:  405\n",
      " accuracy score: 1.0\n",
      "there are 5 unique missing value patterns.\n",
      "working on unique pattern 0\n",
      "Fitting 4 folds for each of 10 candidates, totalling 40 fits\n",
      "num of sample:  3343\n",
      " accuracy score: 0.8561172599461562\n",
      "working on unique pattern 1\n",
      "Fitting 4 folds for each of 10 candidates, totalling 40 fits\n",
      "num of sample:  4\n",
      " accuracy score: 1.0\n",
      "working on unique pattern 2\n",
      "Fitting 4 folds for each of 10 candidates, totalling 40 fits\n",
      "num of sample:  272\n",
      " accuracy score: 0.8823529411764706\n",
      "working on unique pattern 3\n",
      "Fitting 4 folds for each of 10 candidates, totalling 40 fits\n",
      "num of sample:  380\n",
      " accuracy score: 1.0\n",
      "working on unique pattern 4\n",
      "Fitting 4 folds for each of 10 candidates, totalling 40 fits\n",
      "num of sample:  1\n",
      " accuracy score: 1.0\n",
      "there are 4 unique missing value patterns.\n",
      "working on unique pattern 0\n",
      "Fitting 4 folds for each of 10 candidates, totalling 40 fits\n",
      "num of sample:  3361\n",
      " accuracy score: 0.8479619160963999\n",
      "working on unique pattern 1\n",
      "Fitting 4 folds for each of 10 candidates, totalling 40 fits\n",
      "num of sample:  3\n",
      " accuracy score: 1.0\n",
      "working on unique pattern 2\n",
      "Fitting 4 folds for each of 10 candidates, totalling 40 fits\n",
      "num of sample:  245\n",
      " accuracy score: 0.9061224489795918\n",
      "working on unique pattern 3\n",
      "Fitting 4 folds for each of 10 candidates, totalling 40 fits\n",
      "num of sample:  391\n",
      " accuracy score: 1.0\n",
      "there are 4 unique missing value patterns.\n",
      "working on unique pattern 0\n",
      "Fitting 4 folds for each of 10 candidates, totalling 40 fits\n",
      "num of sample:  3365\n",
      " accuracy score: 0.8543833580980683\n",
      "working on unique pattern 1\n",
      "Fitting 4 folds for each of 10 candidates, totalling 40 fits\n",
      "num of sample:  5\n",
      " accuracy score: 1.0\n",
      "working on unique pattern 2\n",
      "Fitting 4 folds for each of 10 candidates, totalling 40 fits\n",
      "num of sample:  231\n",
      " accuracy score: 0.8874458874458875\n",
      "working on unique pattern 3\n",
      "Fitting 4 folds for each of 10 candidates, totalling 40 fits\n",
      "num of sample:  399\n",
      " accuracy score: 1.0\n",
      "there are 5 unique missing value patterns.\n",
      "working on unique pattern 0\n",
      "Fitting 4 folds for each of 10 candidates, totalling 40 fits\n",
      "num of sample:  3353\n",
      " accuracy score: 0.8529674917983895\n",
      "working on unique pattern 1\n",
      "Fitting 4 folds for each of 10 candidates, totalling 40 fits\n",
      "num of sample:  2\n",
      " accuracy score: 1.0\n",
      "working on unique pattern 2\n",
      "Fitting 4 folds for each of 10 candidates, totalling 40 fits\n",
      "num of sample:  232\n",
      " accuracy score: 0.896551724137931\n",
      "working on unique pattern 3\n",
      "Fitting 4 folds for each of 10 candidates, totalling 40 fits\n",
      "num of sample:  412\n",
      " accuracy score: 0.9975728155339806\n",
      "working on unique pattern 4\n",
      "Fitting 4 folds for each of 10 candidates, totalling 40 fits\n",
      "num of sample:  1\n",
      " accuracy score: 1.0\n"
     ]
    }
   ],
   "source": [
    "# Parameter grid for hyperparameter tuning\n",
    "param_grid = {\n",
    "    'svc__gamma': [1e-3, 1e-2, 1e-1, 1e0, 1e1, 1e2, 1e3],\n",
    "    'svc__C': [1e-2, 1e-1, 1e0, 1e1, 1e2]\n",
    "} \n",
    "\n",
    "\n",
    "y_preds = []\n",
    "models = []\n",
    "test_sets = []\n",
    "unique_rows_record = []\n",
    "for random_state in range(5):\n",
    "    X_train, X_test, y_train, y_test = train_test_split(\n",
    "        X, y, test_size=0.2, stratify=y, random_state=random_state)\n",
    "\n",
    "    all_y_test_pred,best_models,unique_rows = reduced_feature_SVM(X_train, y_train, X_test, y_test, param_grid, random_state)\n",
    "\n",
    "    test_sets.append([X_test,y_test])\n",
    "    unique_rows_record.append(unique_rows)\n",
    "    models.append(best_models)\n",
    "    y_preds.append(all_y_test_pred)\n"
   ]
  },
  {
   "cell_type": "code",
   "execution_count": null,
   "metadata": {},
   "outputs": [],
   "source": [
    "file = open('../results/reduced_feature_SVM.save', 'wb')\n",
    "pickle.dump((y_preds, models, test_sets, unique_rows_record), file)\n",
    "file.close()"
   ]
  },
  {
   "cell_type": "code",
   "execution_count": null,
   "metadata": {},
   "outputs": [],
   "source": [
    "file = open('../results/reduced_feature_SVM.save', 'rb')\n",
    "y_preds, models, test_sets, unique_rows_record = pickle.load(file)\n",
    "file.close()"
   ]
  },
  {
   "cell_type": "code",
   "execution_count": 9,
   "metadata": {},
   "outputs": [],
   "source": [
    "accs = []\n",
    "f1s = []\n",
    "recalls = []\n",
    "precisions = []\n",
    "\n",
    "\n",
    "for y_pred,test_set in zip(y_preds,test_sets):\n",
    "    _,y_test = test_set\n",
    "    order_y_test = y_test.sort_index()\n",
    "    accs.append(accuracy_score(order_y_test,y_pred))\n",
    "    f1s.append(f1_score(order_y_test,y_pred))\n",
    "    recalls.append(recall_score(order_y_test,y_pred))\n",
    "    precisions.append(precision_score(order_y_test,y_pred))"
   ]
  },
  {
   "cell_type": "code",
   "execution_count": 10,
   "metadata": {},
   "outputs": [
    {
     "name": "stdout",
     "output_type": "stream",
     "text": [
      "mean of accuracy score: 0.87095,    standard deviation of accuracy score: 0.002722131517763224\n",
      "mean of f1 score: 0.6476387776509693,     standard deviation of f1 score: 0.014606555601158469\n",
      "mean of recall score: 0.4958246346555324,     standard deviation of recall score: 0.021084561457958416\n",
      "mean of precision score: 0.87095,     standard deviation of precision score: 0.017158288193164502\n"
     ]
    }
   ],
   "source": [
    "print(f\"mean of accuracy score: {np.mean(accs)},    standard deviation of accuracy score: {np.std(accs)}\")\n",
    "print(f\"mean of f1 score: {np.mean(f1s)},     standard deviation of f1 score: {np.std(f1s)}\")\n",
    "print(f\"mean of recall score: {np.mean(recalls)},     standard deviation of recall score: {np.std(recalls)}\")\n",
    "print(f\"mean of precision score: {np.mean(accs)},     standard deviation of precision score: {np.std(precisions)}\")"
   ]
  },
  {
   "cell_type": "code",
   "execution_count": 11,
   "metadata": {},
   "outputs": [
    {
     "data": {
      "image/png": "[encoded data removed]",
      "text/plain": [
       "<Figure size 600x300 with 2 Axes>"
      ]
     },
     "metadata": {},
     "output_type": "display_data"
    }
   ],
   "source": [
    "X_test,y_test = test_set\n",
    "cm = confusion_matrix(order_y_test,y_pred)\n",
    "disp = ConfusionMatrixDisplay((cm.T/np.sum(cm.T,axis=0)).T,display_labels=['class 0', 'class 1'])\n",
    "fig, ax = plt.subplots(figsize=(6,3))\n",
    "disp.plot(ax=ax)\n",
    "plt.show()"
   ]
  },
  {
   "cell_type": "markdown",
   "metadata": {},
   "source": [
    "#### Permutation feature importance"
   ]
  },
  {
   "cell_type": "code",
   "execution_count": 12,
   "metadata": {},
   "outputs": [],
   "source": [
    "def get_sub_set(X_test,y_test,unique_row):\n",
    "    mask = X_test.isnull()\n",
    "    sub_X_test = pd.DataFrame()\n",
    "    sub_y_test = pd.Series(dtype=float)\n",
    "    for j in range(len(mask)): \n",
    "        row_mask = np.array(mask.iloc[j])\n",
    "        if np.array_equal(row_mask, unique_row): \n",
    "\n",
    "            sub_X_test = pd.concat([sub_X_test,X_test.iloc[[j]]])\n",
    "            sub_y_test = pd.concat([sub_y_test, y_test.iloc[[j]]])\n",
    "    return sub_X_test, sub_y_test"
   ]
  },
  {
   "cell_type": "code",
   "execution_count": 13,
   "metadata": {},
   "outputs": [
    {
     "name": "stdout",
     "output_type": "stream",
     "text": [
      "0 0 test score =  0.8607011070110702\n",
      "test baseline =  0.8459409594095941\n",
      "shuffling loan_limit\n",
      "   shuffled test score: 0.858 +/- 0.001\n",
      "shuffling Gender\n",
      "   shuffled test score: 0.86 +/- 0.001\n",
      "shuffling approv_in_adv\n",
      "   shuffled test score: 0.858 +/- 0.001\n",
      "shuffling loan_type\n",
      "   shuffled test score: 0.86 +/- 0.001\n",
      "shuffling loan_purpose\n",
      "   shuffled test score: 0.859 +/- 0.002\n",
      "shuffling Credit_Worthiness\n",
      "   shuffled test score: 0.853 +/- 0.001\n",
      "shuffling open_credit\n",
      "   shuffled test score: 0.858 +/- 0.001\n",
      "shuffling business_or_commercial\n",
      "   shuffled test score: 0.861 +/- 0.001\n",
      "shuffling loan_amount\n",
      "   shuffled test score: 0.853 +/- 0.002\n",
      "shuffling term\n",
      "   shuffled test score: 0.86 +/- 0.001\n",
      "shuffling Neg_ammortization\n",
      "   shuffled test score: 0.849 +/- 0.001\n",
      "shuffling interest_only\n",
      "   shuffled test score: 0.86 +/- 0.001\n",
      "shuffling lump_sum_payment\n",
      "   shuffled test score: 0.848 +/- 0.001\n",
      "shuffling property_value\n",
      "   shuffled test score: 0.859 +/- 0.003\n",
      "shuffling construction_type\n",
      "   shuffled test score: 0.86 +/- 0.0\n",
      "shuffling occupancy_type\n",
      "   shuffled test score: 0.858 +/- 0.001\n",
      "shuffling Secured_by\n",
      "   shuffled test score: 0.86 +/- 0.0\n",
      "shuffling total_units\n",
      "   shuffled test score: 0.86 +/- 0.001\n",
      "shuffling income\n",
      "   shuffled test score: 0.85 +/- 0.002\n",
      "shuffling credit_type\n",
      "   shuffled test score: 0.859 +/- 0.001\n",
      "shuffling Credit_Score\n",
      "   shuffled test score: 0.861 +/- 0.001\n",
      "shuffling co-applicant_credit_type\n",
      "   shuffled test score: 0.861 +/- 0.001\n",
      "shuffling age\n",
      "   shuffled test score: 0.86 +/- 0.0\n",
      "shuffling submission_of_application\n",
      "   shuffled test score: 0.859 +/- 0.001\n",
      "shuffling LTV\n",
      "   shuffled test score: 0.852 +/- 0.002\n",
      "shuffling Region\n",
      "   shuffled test score: 0.861 +/- 0.002\n",
      "shuffling Security_Type\n",
      "   shuffled test score: 0.861 +/- 0.0\n",
      "shuffling dtir1\n",
      "   shuffled test score: 0.855 +/- 0.004\n"
     ]
    }
   ],
   "source": [
    "# use the one of models to check feature importances\n",
    "np.random.seed(42)\n",
    "i, j = 0, 0\n",
    "X_test,y_test = test_sets[i]\n",
    "unique_row = unique_rows_record[i][j]\n",
    "model = models[i][j]\n",
    "\n",
    "ftr_names = X_test.columns\n",
    "nr_runs = 10\n",
    "scores = np.zeros([len(ftr_names),nr_runs])\n",
    "\n",
    "\n",
    "sub_X_test,sub_y_test = get_sub_set(X_test,y_test,unique_row)\n",
    "sub_X_test = sub_X_test.dropna(axis=1)\n",
    "test_score = model.score(sub_X_test,sub_y_test)\n",
    "print(i,j,'test score = ',test_score)\n",
    "print('test baseline = ',np.sum(sub_y_test == 0)/len(sub_y_test))\n",
    "for i in range(len(ftr_names)):\n",
    "    print('shuffling '+str(ftr_names[i]))\n",
    "    acc_scores = []\n",
    "    for j in range(nr_runs):\n",
    "        X_test_shuffled = X_test.copy()\n",
    "        X_test_shuffled[ftr_names[i]] = np.random.permutation(X_test[ftr_names[i]].values)\n",
    "        sub_X_test_shuffled,sub_y_test = get_sub_set(X_test_shuffled,y_test,unique_row)\n",
    "        sub_X_test_shuffled = sub_X_test_shuffled.dropna(axis=1)\n",
    "        acc_scores.append(model.score(sub_X_test_shuffled,sub_y_test))\n",
    "    print('   shuffled test score:',np.around(np.mean(acc_scores),3),'+/-',np.around(np.std(acc_scores),3))\n",
    "    scores[i] = acc_scores"
   ]
  },
  {
   "cell_type": "code",
   "execution_count": 14,
   "metadata": {},
   "outputs": [
    {
     "data": {
      "image/png": "[encoded data removed]",
      "text/plain": [
       "<Figure size 1000x600 with 1 Axes>"
      ]
     },
     "metadata": {},
     "output_type": "display_data"
    }
   ],
   "source": [
    "sorted_indcs = np.argsort(np.mean(scores,axis=1))[:10][::-1]\n",
    "plt.rcParams.update({'font.size': 11})\n",
    "plt.figure(figsize=(10,6))\n",
    "plt.boxplot(scores[sorted_indcs].T,tick_labels=ftr_names[sorted_indcs],vert=False)\n",
    "plt.axvline(test_score,label='test score')\n",
    "plt.title(\"Permutation Importances (test set)\")\n",
    "plt.xlabel('score with perturbed feature')\n",
    "plt.legend()\n",
    "plt.tight_layout()\n",
    "plt.show()"
   ]
  }
 ],
 "metadata": {
  "kernelspec": {
   "display_name": "data1030",
   "language": "python",
   "name": "python3"
  },
  "language_info": {
   "codemirror_mode": {
    "name": "ipython",
    "version": 3
   },
   "file_extension": ".py",
   "mimetype": "text/x-python",
   "name": "python",
   "nbconvert_exporter": "python",
   "pygments_lexer": "ipython3",
   "version": "3.12.5"
  }
 },
 "nbformat": 4,
 "nbformat_minor": 2
}
